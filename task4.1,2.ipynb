{
 "cells": [
  {
   "cell_type": "code",
   "execution_count": 1,
   "metadata": {},
   "outputs": [],
   "source": [
    "import cv2"
   ]
  },
  {
   "cell_type": "code",
   "execution_count": 2,
   "metadata": {},
   "outputs": [],
   "source": [
    "import numpy as np"
   ]
  },
  {
   "cell_type": "code",
   "execution_count": 3,
   "metadata": {},
   "outputs": [],
   "source": [
    "happy = cv2.imread(\"photo.jpg\")\n",
    "sad = cv2.imread(\"photo.jpg\")"
   ]
  },
  {
   "cell_type": "code",
   "execution_count": 4,
   "metadata": {},
   "outputs": [],
   "source": [
    "happy = cv2.circle(happy, (256,256), 200, (0,0,255), 2)\n",
    "happy = cv2.circle(happy, (181,181), 20, (0,0,255), 2)\n",
    "happy = cv2.circle(happy, (331,181), 20, (0,0,255), 2)\n",
    "happy = cv2.ellipse(happy, (256,346), (100,30), 0, 0, 180, (0,255,0), 2)\n",
    "cv2.line(happy, (236,276), (276,276), (255, 0, 0), 3)\n",
    "cv2.line(happy, (276,276), (256,236), (255, 0, 0), 3)\n",
    "cv2.line(happy, (256,236), (236,276), (255, 0, 0), 3)\n",
    "cv2.imshow(\"happy\", happy)\n",
    "cv2.waitKey()\n",
    "cv2.destroyAllWindows()"
   ]
  },
  {
   "cell_type": "code",
   "execution_count": 5,
   "metadata": {},
   "outputs": [],
   "source": [
    "sad = cv2.circle(sad, (256,256), 200, (0,0,255), 2)\n",
    "sad = cv2.circle(sad, (181,181), 20, (0,0,255), 2)\n",
    "sad = cv2.circle(sad, (331,181), 20, (0,0,255), 2)\n",
    "sad = cv2.ellipse(sad, (256,346), (100,30), 0, 180, 360, (0,255,0), 2)\n",
    "cv2.line(sad, (236,276), (276,276), (255, 0, 0), 3)\n",
    "cv2.line(sad, (276,276), (256,236), (255, 0, 0), 3)\n",
    "cv2.line(sad, (256,236), (236,276), (255, 0, 0), 3)\n",
    "cv2.imshow(\"sad\", sad)\n",
    "cv2.waitKey()\n",
    "cv2.destroyAllWindows()"
   ]
  },
  {
   "cell_type": "code",
   "execution_count": 6,
   "metadata": {},
   "outputs": [
    {
     "data": {
      "text/plain": [
       "True"
      ]
     },
     "execution_count": 6,
     "metadata": {},
     "output_type": "execute_result"
    }
   ],
   "source": [
    "cv2.imwrite(\"happy.jpg\", happy)\n",
    "cv2.imwrite(\"sad.jpg\", sad)\n"
   ]
  },
  {
   "cell_type": "code",
   "execution_count": 7,
   "metadata": {},
   "outputs": [],
   "source": [
    "chappy = happy[296:396, 156:356]\n",
    "cv2.imwrite(\"chappy.jpg\", chappy)\n",
    "cv2.imshow(\"chappy\", chappy)\n",
    "cv2.waitKey()\n",
    "cv2.destroyAllWindows()\n",
    "\n"
   ]
  },
  {
   "cell_type": "code",
   "execution_count": 8,
   "metadata": {},
   "outputs": [],
   "source": [
    "csad = sad[296:396, 156:356]\n",
    "cv2.imwrite(\"csad.jpg\", csad)\n",
    "cv2.imshow(\"csad\", csad)\n",
    "cv2.waitKey()\n",
    "cv2.destroyAllWindows()\n",
    "\n"
   ]
  },
  {
   "cell_type": "code",
   "execution_count": 9,
   "metadata": {},
   "outputs": [],
   "source": [
    "shappy = happy\n",
    "cv2.imshow(\"shappy\", shappy)\n",
    "cv2.waitKey()\n",
    "cv2.destroyAllWindows()\n"
   ]
  },
  {
   "cell_type": "code",
   "execution_count": 11,
   "metadata": {},
   "outputs": [],
   "source": [
    "shappy[296:396, 156:356]=csad\n",
    "cv2.imwrite(\"shappy.jpg\", shappy)\n",
    "cv2.imshow(\"shappy\", shappy)\n",
    "cv2.waitKey()\n",
    "cv2.destroyAllWindows()"
   ]
  },
  {
   "cell_type": "code",
   "execution_count": 12,
   "metadata": {},
   "outputs": [],
   "source": [
    "ssad = sad\n",
    "cv2.imshow(\"ssad\", sad)\n",
    "cv2.waitKey()\n",
    "cv2.destroyAllWindows()"
   ]
  },
  {
   "cell_type": "code",
   "execution_count": null,
   "metadata": {},
   "outputs": [],
   "source": [
    "chappy = cv2.imread(\"chappy.jpg\")\n",
    "ssad[296:396, 156:356]=chappy\n",
    "cv2.imwrite(\"ssad.jpg\", ssad)\n",
    "cv2.imshow(\"ssad\", ssad)\n",
    "cv2.waitKey()\n",
    "cv2.destroyAllWindows()"
   ]
  },
  {
   "cell_type": "code",
   "execution_count": null,
   "metadata": {},
   "outputs": [],
   "source": []
  },
  {
   "cell_type": "code",
   "execution_count": null,
   "metadata": {},
   "outputs": [],
   "source": []
  },
  {
   "cell_type": "code",
   "execution_count": null,
   "metadata": {},
   "outputs": [],
   "source": []
  },
  {
   "cell_type": "code",
   "execution_count": null,
   "metadata": {},
   "outputs": [],
   "source": []
  }
 ],
 "metadata": {
  "kernelspec": {
   "display_name": "Python 3",
   "language": "python",
   "name": "python3"
  },
  "language_info": {
   "codemirror_mode": {
    "name": "ipython",
    "version": 3
   },
   "file_extension": ".py",
   "mimetype": "text/x-python",
   "name": "python",
   "nbconvert_exporter": "python",
   "pygments_lexer": "ipython3",
   "version": "3.8.3"
  }
 },
 "nbformat": 4,
 "nbformat_minor": 4
}
